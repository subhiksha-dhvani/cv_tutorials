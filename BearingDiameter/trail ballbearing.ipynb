{
 "cells": [
  {
   "cell_type": "code",
   "execution_count": null,
   "id": "d37cdad7",
   "metadata": {},
   "outputs": [],
   "source": [
    "import cv2\n",
    "import numpy as np"
   ]
  },
  {
   "cell_type": "code",
   "execution_count": null,
   "id": "d9c355c9",
   "metadata": {},
   "outputs": [],
   "source": [
    "\n",
    "\n",
    "def getContour(img, thrshld, maxthrshld):\n",
    "    # Convert to grayscale\n",
    "    gray = cv2.cvtColor(img, cv2.COLOR_BGR2GRAY)\n",
    "\n",
    "    # Apply binary thresholding\n",
    "    _, binary_img = cv2.threshold(gray, thrshld, maxthrshld, cv2.THRESH_BINARY)\n",
    "\n",
    "    # Find all contours (not just external ones)\n",
    "    contours, _ = cv2.findContours(binary_img, cv2.RETR_TREE, cv2.CHAIN_APPROX_SIMPLE)\n",
    "\n",
    "    # Filter out small contours (noise)\n",
    "    min_area = 500  # Tune this based on your image\n",
    "    filtered_contours = [cnt for cnt in contours if cv2.contourArea(cnt) > min_area]\n",
    "\n",
    "    # print(f\"Total contours: {len(filtered_contours)}\")\n",
    "    \n",
    "    # cv2.drawContours(img, filtered_contours, -1, (0,0,255),2)\n",
    "    # cv2.imshow(\"multple contour\", img)\n",
    "    \n",
    "    if not filtered_contours:\n",
    "        return None\n",
    "\n",
    "    # Sort contours by area\n",
    "    sorted_contours = sorted(filtered_contours, key=cv2.contourArea)\n",
    "\n",
    "    # Assuming smallest relevant area is the inner ring\n",
    "    inner_contour = sorted_contours[0]\n",
    "\n",
    "    outer_contour = max(filtered_contours, key=cv2.contourArea)\n",
    "\n",
    "    return inner_contour, outer_contour\n",
    "\n"
   ]
  },
  {
   "cell_type": "code",
   "execution_count": 2,
   "id": "782f6ce7",
   "metadata": {},
   "outputs": [],
   "source": [
    "def getCircleProperty(inner_contour, outer_contour):\n",
    "    (center_xin, center_yin), inner_radius = cv2.minEnclosingCircle(inner_contour) #smallest enclosing circle for the  contour.\n",
    "    inner_diameter = 2 * inner_radius\n",
    "    print(f\"Inner Diameter: {inner_diameter:.2f} pixels\")\n",
    "\n",
    "    (center_xout, center_yout), outer_radius = cv2.minEnclosingCircle(outer_contour)\n",
    "    outer_diameter = 2 * outer_radius\n",
    "    print(f\"Outer Diameter: {outer_diameter: .2f} pixel\")\n",
    "\n",
    "    return inner_radius, outer_radius, center_xin, center_yin, center_xout, center_yout\n",
    "\n"
   ]
  },
  {
   "cell_type": "code",
   "execution_count": null,
   "id": "bd00ec54",
   "metadata": {},
   "outputs": [],
   "source": [
    "def Visual(img, inner_radius, outer_radius, center_xin, center_yin, center_xout, center_yout ):\n",
    "\n",
    "    #inner circle red\n",
    "    # cv2.putText()\n",
    "    cv2.circle(img, (int(center_xin), int(center_yin)), int(inner_radius), (0, 0, 255), 2) \n",
    "\n",
    "    # #outer circle green\n",
    "    cv2.circle(img, (int(center_xout), int(center_yout)), int(outer_radius), (0, 0, 255), 2) \n",
    "\n",
    "    # float to integers\n",
    "    center = (int(center_xout), int(center_yout))\n",
    "    radius = int(outer_radius)\n",
    "    diameter = int(outer_radius)*2\n",
    "\n",
    "    # Define the start and end points of the diameter line (horizontal)\n",
    "    pt1 = (center[0] - radius, center[1])  # left side of circle\n",
    "    pt2 = (center[0] + radius, center[1])  # right side of circle\n",
    "\n",
    "    # Draw the diameter line in red\n",
    "    cv2.line(img, pt1, pt2, (0, 0, 255), 2)\n",
    "\n",
    "    # Put the diameter value near the center\n",
    "    label = f\"{diameter}px\"\n",
    "    cv2.putText(\n",
    "        img,\n",
    "        label,\n",
    "        (center[0] - 40, center[1] - 10),  # offset above the line\n",
    "        cv2.FONT_HERSHEY_SIMPLEX,\n",
    "        0.6,\n",
    "        (0, 0, 255),  # red text\n",
    "        2,\n",
    "        cv2.LINE_AA\n",
    "    )\n",
    "    cv2.imshow(\"Diameters\", img)\n",
    "\n",
    "\n"
   ]
  },
  {
   "cell_type": "code",
   "execution_count": 4,
   "id": "d7b820c8",
   "metadata": {},
   "outputs": [],
   "source": [
    "import cv2\n",
    "\n",
    "def draw_diameter_line(img, contour, color=(0, 0, 255), label_prefix=\"Diameter\"):\n",
    "    \"\"\"\n",
    "    Draws the diameter line of the minimum enclosing circle for the given contour,\n",
    "    along with a label showing the diameter in pixels.\n",
    "\n",
    "    Parameters:\n",
    "        img (np.ndarray): Image on which to draw.\n",
    "        contour (np.ndarray): The contour for which the diameter is drawn.\n",
    "        color (tuple): BGR color for drawing. Default is red.\n",
    "        label_prefix (str): Text prefix for the label (e.g., \"Outer Diameter\").\n",
    "\n",
    "    Returns:\n",
    "        img_with_diameter (np.ndarray): The image with diameter line and label drawn.\n",
    "    \"\"\"\n",
    "    # Copy the image so the original is not modified\n",
    "    img_with_diameter = img.copy()\n",
    "\n",
    "    # Get minimum enclosing circle\n",
    "    (center_x, center_y), radius = cv2.minEnclosingCircle(contour)\n",
    "    center = (int(center_x), int(center_y))\n",
    "    radius = int(radius)\n",
    "    diameter = 2 * radius\n",
    "\n",
    "    # Define the start and end of the diameter line (horizontal)\n",
    "    pt1 = (center[0] - radius, center[1])  # left point\n",
    "    pt2 = (center[0] + radius, center[1])  # right point\n",
    "\n",
    "    # Draw the diameter line\n",
    "    cv2.line(img_with_diameter, pt1, pt2, color, 2)\n",
    "\n",
    "    # Draw the diameter label text\n",
    "    label = f\"{label_prefix}: {diameter}px\"\n",
    "    text_pos = (center[0] - 50, center[1] - 10)\n",
    "    cv2.putText(\n",
    "        img_with_diameter,\n",
    "        label,\n",
    "        text_pos,\n",
    "        cv2.FONT_HERSHEY_SIMPLEX,\n",
    "        0.6,\n",
    "        color,\n",
    "        2,\n",
    "        cv2.LINE_AA\n",
    "    )\n",
    "\n",
    "    return img_with_diameter\n"
   ]
  },
  {
   "cell_type": "code",
   "execution_count": 5,
   "id": "45b16760",
   "metadata": {},
   "outputs": [
    {
     "name": "stdout",
     "output_type": "stream",
     "text": [
      "Inner Diameter: 328.89 pixels\n",
      "Outer Diameter:  688.09 pixel\n"
     ]
    },
    {
     "name": "stderr",
     "output_type": "stream",
     "text": [
      "qt.qpa.plugin: Could not find the Qt platform plugin \"wayland\" in \"\"\n"
     ]
    }
   ],
   "source": [
    "from numpy import outer\n",
    "\n",
    "\n",
    "img1 = cv2.imread(\"/home/dhvani/Subhiksha/or-face/or-face-dent/s1.png\")\n",
    "# img1 = img1[200:1000, 700:1600]\n",
    "img1 = img1[200:1000, 300:1300]\n",
    "\n",
    "\n",
    "\n",
    "\n",
    "# inner, outer, innerdia, outerdia, center_xin, center_yin, center_xout, center_yout = getContour(img1, 100,255)\n",
    "\n",
    "# inner\n",
    "# inner, outer, innerdia, center_xin, center_yin = getContour(img1, 100,255)\n",
    "\n",
    "# outer\n",
    "inner, outer = getContour(img1, 100,255)\n",
    "inner_radius, outer_radius, center_xin, center_yin, center_xout, center_yout = getCircleProperty(inner, outer)\n",
    "\n",
    "# outer = getODContour(img1)\n",
    "\n",
    "\n",
    "\n",
    "#draw inner outer\n",
    "if inner is not None:\n",
    "    cv2.drawContours(img1, [inner], -1, (0, 255, 0), 2)\n",
    "if outer is not None:\n",
    "    cv2.drawContours(img1, [outer], -1, (0, 255, 0), 2)\n",
    "\n",
    "\n",
    "cv2.imshow(\"Detected Inner and Outer Rings\", img1)\n",
    "\n",
    "#inner\n",
    "# Visual(img1, innerdia, center_xin, center_yin)\n",
    "imcopy = img1.copy()\n",
    "#outer\n",
    "# Visual(imcopy, inner_radius, outer_radius, center_xin, center_yin, center_xout, center_yout)\n",
    "\n",
    "\n",
    "\n",
    "cv2.waitKey(0)\n",
    "cv2.destroyAllWindows()\n"
   ]
  },
  {
   "cell_type": "code",
   "execution_count": 6,
   "id": "fb90b91b",
   "metadata": {},
   "outputs": [],
   "source": [
    "cv2.imshow(\"Outer \", img1)\n",
    "diameter_outer = draw_diameter_line(img1, outer, color=(0, 0, 255), label_prefix=\"Diameter\")\n",
    "cv2.imshow(\"Outer \", img1)"
   ]
  },
  {
   "cell_type": "code",
   "execution_count": 7,
   "id": "890b0a68",
   "metadata": {},
   "outputs": [
    {
     "data": {
      "text/plain": [
       "(800, 1000, 3)"
      ]
     },
     "execution_count": 7,
     "metadata": {},
     "output_type": "execute_result"
    }
   ],
   "source": [
    "diameter_outer.shape"
   ]
  },
  {
   "cell_type": "code",
   "execution_count": 8,
   "id": "ab33da42",
   "metadata": {},
   "outputs": [],
   "source": [
    "def get_outer_diameter_contour(img):\n",
    "    gray = cv2.cvtColor(img, cv2.COLOR_BGR2GRAY)\n",
    "    blurred = cv2.GaussianBlur(gray, (7, 7), 0)\n",
    "    edges = cv2.Canny(blurred, 50, 150)\n",
    "\n",
    "    # Find all contours\n",
    "    contours, _ = cv2.findContours(edges, cv2.RETR_EXTERNAL, cv2.CHAIN_APPROX_SIMPLE)\n",
    "\n",
    "    if not contours:\n",
    "        return None\n",
    "\n",
    "    # Sort by area and assume the **largest circle** is the outer ring\n",
    "    outer_contour = max(contours, key=cv2.contourArea)\n",
    "    return outer_contour\n"
   ]
  },
  {
   "cell_type": "code",
   "execution_count": 9,
   "id": "09fc541d",
   "metadata": {},
   "outputs": [],
   "source": [
    "a =[5]\n",
    "\n",
    "def add(a):\n",
    "    a.append(10)\n",
    "    return a"
   ]
  },
  {
   "cell_type": "code",
   "execution_count": 10,
   "id": "9a3d20fb",
   "metadata": {},
   "outputs": [
    {
     "name": "stdout",
     "output_type": "stream",
     "text": [
      "[5, 10]\n"
     ]
    }
   ],
   "source": [
    "add(a)\n",
    "print(a)"
   ]
  },
  {
   "cell_type": "code",
   "execution_count": null,
   "id": "64a99697",
   "metadata": {},
   "outputs": [
    {
     "data": {
      "text/plain": [
       "[5, 10]"
      ]
     },
     "execution_count": 11,
     "metadata": {},
     "output_type": "execute_result"
    },
    {
     "ename": "",
     "evalue": "",
     "output_type": "error",
     "traceback": [
      "\u001b[1;31mThe Kernel crashed while executing code in the current cell or a previous cell. \n",
      "\u001b[1;31mPlease review the code in the cell(s) to identify a possible cause of the failure. \n",
      "\u001b[1;31mClick <a href='https://aka.ms/vscodeJupyterKernelCrash'>here</a> for more info. \n",
      "\u001b[1;31mView Jupyter <a href='command:jupyter.viewOutput'>log</a> for further details."
     ]
    }
   ],
   "source": [
    "a"
   ]
  },
  {
   "cell_type": "code",
   "execution_count": null,
   "id": "805837de",
   "metadata": {},
   "outputs": [],
   "source": []
  }
 ],
 "metadata": {
  "kernelspec": {
   "display_name": "lensBasics",
   "language": "python",
   "name": "python3"
  },
  "language_info": {
   "codemirror_mode": {
    "name": "ipython",
    "version": 3
   },
   "file_extension": ".py",
   "mimetype": "text/x-python",
   "name": "python",
   "nbconvert_exporter": "python",
   "pygments_lexer": "ipython3",
   "version": "3.13.5"
  }
 },
 "nbformat": 4,
 "nbformat_minor": 5
}
